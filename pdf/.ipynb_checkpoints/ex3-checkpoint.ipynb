{
 "cells": [
  {
   "cell_type": "markdown",
   "id": "3e78e9c6",
   "metadata": {},
   "source": [
    "## In this notebook, we are going to study some probability distribution functions (pdfs) and if have time, do some monte carlo simulations"
   ]
  },
  {
   "cell_type": "code",
   "execution_count": 1,
   "id": "63574448",
   "metadata": {},
   "outputs": [],
   "source": [
    "import pandas as pd\n",
    "import matplotlib.pyplot as plt\n",
    "import numpy as np\n",
    "from sklearn.model_selection import GridSearchCV\n",
    "from sklearn.neighbors import KernelDensity\n",
    "\n",
    "import seaborn as sns\n",
    "from scipy.stats import pearsonr\n",
    "from scipy.stats import f_oneway\n",
    "from tabulate import tabulate\n",
    "\n"
   ]
  },
  {
   "cell_type": "code",
   "execution_count": 2,
   "id": "d0834c57",
   "metadata": {},
   "outputs": [],
   "source": [
    "df1 = pd.read_csv('/home/amir/Documents/GitHub/Statistics-Analysis-/pdf/5516539/Wind_Time_Series_Dataset/Wind Time Series Dataset(10min).csv')"
   ]
  },
  {
   "cell_type": "code",
   "execution_count": 3,
   "id": "5bcd818c",
   "metadata": {},
   "outputs": [
    {
     "data": {
      "text/html": [
       "<div>\n",
       "<style scoped>\n",
       "    .dataframe tbody tr th:only-of-type {\n",
       "        vertical-align: middle;\n",
       "    }\n",
       "\n",
       "    .dataframe tbody tr th {\n",
       "        vertical-align: top;\n",
       "    }\n",
       "\n",
       "    .dataframe thead th {\n",
       "        text-align: right;\n",
       "    }\n",
       "</style>\n",
       "<table border=\"1\" class=\"dataframe\">\n",
       "  <thead>\n",
       "    <tr style=\"text-align: right;\">\n",
       "      <th></th>\n",
       "      <th>Time</th>\n",
       "      <th>WindSpeed</th>\n",
       "      <th>Power</th>\n",
       "    </tr>\n",
       "  </thead>\n",
       "  <tbody>\n",
       "    <tr>\n",
       "      <th>0</th>\n",
       "      <td>2014-10-07 01:20:00</td>\n",
       "      <td>8.22</td>\n",
       "      <td>40.526173</td>\n",
       "    </tr>\n",
       "    <tr>\n",
       "      <th>1</th>\n",
       "      <td>2014-10-07 01:30:00</td>\n",
       "      <td>8.09</td>\n",
       "      <td>38.552540</td>\n",
       "    </tr>\n",
       "    <tr>\n",
       "      <th>2</th>\n",
       "      <td>2014-10-07 01:50:00</td>\n",
       "      <td>7.21</td>\n",
       "      <td>21.313683</td>\n",
       "    </tr>\n",
       "    <tr>\n",
       "      <th>3</th>\n",
       "      <td>2014-10-07 02:00:00</td>\n",
       "      <td>6.75</td>\n",
       "      <td>18.031418</td>\n",
       "    </tr>\n",
       "    <tr>\n",
       "      <th>4</th>\n",
       "      <td>2014-10-07 02:10:00</td>\n",
       "      <td>6.52</td>\n",
       "      <td>16.593281</td>\n",
       "    </tr>\n",
       "    <tr>\n",
       "      <th>...</th>\n",
       "      <td>...</td>\n",
       "      <td>...</td>\n",
       "      <td>...</td>\n",
       "    </tr>\n",
       "    <tr>\n",
       "      <th>39190</th>\n",
       "      <td>2015-10-06 23:10:00</td>\n",
       "      <td>7.45</td>\n",
       "      <td>30.580953</td>\n",
       "    </tr>\n",
       "    <tr>\n",
       "      <th>39191</th>\n",
       "      <td>2015-10-06 23:20:00</td>\n",
       "      <td>7.15</td>\n",
       "      <td>28.455153</td>\n",
       "    </tr>\n",
       "    <tr>\n",
       "      <th>39192</th>\n",
       "      <td>2015-10-06 23:30:00</td>\n",
       "      <td>7.27</td>\n",
       "      <td>30.080422</td>\n",
       "    </tr>\n",
       "    <tr>\n",
       "      <th>39193</th>\n",
       "      <td>2015-10-06 23:40:00</td>\n",
       "      <td>8.19</td>\n",
       "      <td>42.483618</td>\n",
       "    </tr>\n",
       "    <tr>\n",
       "      <th>39194</th>\n",
       "      <td>2015-10-06 23:50:00</td>\n",
       "      <td>7.85</td>\n",
       "      <td>38.560957</td>\n",
       "    </tr>\n",
       "  </tbody>\n",
       "</table>\n",
       "<p>39195 rows × 3 columns</p>\n",
       "</div>"
      ],
      "text/plain": [
       "                      Time  WindSpeed      Power\n",
       "0      2014-10-07 01:20:00       8.22  40.526173\n",
       "1      2014-10-07 01:30:00       8.09  38.552540\n",
       "2      2014-10-07 01:50:00       7.21  21.313683\n",
       "3      2014-10-07 02:00:00       6.75  18.031418\n",
       "4      2014-10-07 02:10:00       6.52  16.593281\n",
       "...                    ...        ...        ...\n",
       "39190  2015-10-06 23:10:00       7.45  30.580953\n",
       "39191  2015-10-06 23:20:00       7.15  28.455153\n",
       "39192  2015-10-06 23:30:00       7.27  30.080422\n",
       "39193  2015-10-06 23:40:00       8.19  42.483618\n",
       "39194  2015-10-06 23:50:00       7.85  38.560957\n",
       "\n",
       "[39195 rows x 3 columns]"
      ]
     },
     "execution_count": 3,
     "metadata": {},
     "output_type": "execute_result"
    }
   ],
   "source": [
    "df1"
   ]
  },
  {
   "cell_type": "code",
   "execution_count": 4,
   "id": "59f0ba91",
   "metadata": {},
   "outputs": [
    {
     "data": {
      "image/png": "[encoded data removed]",
      "text/plain": [
       "<Figure size 800x600 with 1 Axes>"
      ]
     },
     "metadata": {},
     "output_type": "display_data"
    }
   ],
   "source": [
    "# Plot frequency distribution with bins\n",
    "plt.figure(figsize=(8, 6))\n",
    "df1['Power'].hist(bins=20)  # Adjust the number of bins as needed\n",
    "plt.title('Frequency Distribution of Power')\n",
    "plt.xlabel('Power')\n",
    "plt.ylabel('Frequency')\n",
    "plt.show()"
   ]
  },
  {
   "cell_type": "code",
   "execution_count": null,
   "id": "47beb7ab",
   "metadata": {},
   "outputs": [],
   "source": []
  }
 ],
 "metadata": {
  "kernelspec": {
   "display_name": "Python 3 (ipykernel)",
   "language": "python",
   "name": "python3"
  },
  "language_info": {
   "codemirror_mode": {
    "name": "ipython",
    "version": 3
   },
   "file_extension": ".py",
   "mimetype": "text/x-python",
   "name": "python",
   "nbconvert_exporter": "python",
   "pygments_lexer": "ipython3",
   "version": "3.10.12"
  },
  "varInspector": {
   "cols": {
    "lenName": 16,
    "lenType": 16,
    "lenVar": 40
   },
   "kernels_config": {
    "python": {
     "delete_cmd_postfix": "",
     "delete_cmd_prefix": "del ",
     "library": "var_list.py",
     "varRefreshCmd": "print(var_dic_list())"
    },
    "r": {
     "delete_cmd_postfix": ") ",
     "delete_cmd_prefix": "rm(",
     "library": "var_list.r",
     "varRefreshCmd": "cat(var_dic_list()) "
    }
   },
   "types_to_exclude": [
    "module",
    "function",
    "builtin_function_or_method",
    "instance",
    "_Feature"
   ],
   "window_display": false
  }
 },
 "nbformat": 4,
 "nbformat_minor": 5
}
